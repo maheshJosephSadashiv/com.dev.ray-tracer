{
 "cells": [
  {
   "cell_type": "code",
   "execution_count": 46,
   "metadata": {},
   "outputs": [],
   "source": [
    "import numpy as np\n",
    "import matplotlib.pyplot as plt\n",
    "\n",
    "import math\n",
    "\n",
    "class Sphere:\n",
    "    def __init__(self, center, radius, color):\n",
    "        self.center = center\n",
    "        self.radius = radius\n",
    "        self.color = color\n",
    "        \n",
    "viewport_size = 1\n",
    "d = 1\n",
    "Cw = 400\n",
    "Ch = 400\n",
    "Vw = 1\n",
    "Vh = 1\n",
    "inf = 10**9\n",
    "O = (0, 0, 0)\n",
    "BACKGROUND_COLOR = (255, 255, 255)"
   ]
  },
  {
   "cell_type": "code",
   "execution_count": 47,
   "metadata": {},
   "outputs": [],
   "source": [
    "def CanvasToViewport(x, y):\n",
    "    return (x*Vw/Cw, y*Vh/Ch, d)"
   ]
  },
  {
   "cell_type": "code",
   "execution_count": 48,
   "metadata": {},
   "outputs": [],
   "source": [
    "def IntersectRaySphere(O, D, sphere): \n",
    "    r = sphere.radius\n",
    "    CO = [O[0] - sphere.center[0], O[1] - sphere.center[1], O[2] - sphere.center[2]]\n",
    "    a = dot(D, D)\n",
    "    b = 2 * dot(CO, D)\n",
    "    c = dot(CO, CO) - r*r\n",
    "    discriminant = b*b - 4*a*c\n",
    "    if discriminant < 0:\n",
    "        return None, None\n",
    "    t1 = (-b + math.sqrt(discriminant)) / (2*a)\n",
    "    t2 = (-b - math.sqrt(discriminant)) / (2*a)\n",
    "    return t1, t2"
   ]
  },
  {
   "cell_type": "code",
   "execution_count": 49,
   "metadata": {},
   "outputs": [],
   "source": [
    "def TraceRay(O, D, t_min, t_max, spheresObj):\n",
    "    closest_t = 10**9\n",
    "    closest_sphere = None\n",
    "    for sphere in spheresObj:\n",
    "        t1, t2 = IntersectRaySphere(O, D, sphere)\n",
    "        if t1 != None and t1 >= t_min and t1 <=  t_max and t1 < closest_t:\n",
    "            closest_t = t1\n",
    "            closest_sphere = sphere\n",
    "        \n",
    "        if t2 != None and t2 >= t_min and t2 <=  t_max and t2 < closest_t :\n",
    "            closest_t = t2\n",
    "            closest_sphere = sphere\n",
    "\n",
    "    if closest_sphere == None :\n",
    "        return BACKGROUND_COLOR\n",
    "    return closest_sphere.color"
   ]
  },
  {
   "cell_type": "code",
   "execution_count": 50,
   "metadata": {},
   "outputs": [],
   "source": [
    "def putPixel(x, y, color, matrix):\n",
    "    Sx = Cw//2 + x\n",
    "    Sy = Ch//2 - y\n",
    "    if Sx >= Cw or Sy >= Ch:\n",
    "        return\n",
    "    matrix[Sy][Sx] = color #y is the rows and x is the columns"
   ]
  },
  {
   "cell_type": "code",
   "execution_count": 51,
   "metadata": {},
   "outputs": [],
   "source": [
    "def findPixels():\n",
    "    spheres =  [[(0, -1, 3), 1, (255, 0, 0)], [(2, 0, 4), 1 ,(0, 0, 255)], [(-2, 0, 4), 1 , (0, 255, 0)]]\n",
    "    spheresObj = []\n",
    "    matrix = [[BACKGROUND_COLOR for i in range(Cw)] for j in range(Ch)]\n",
    "    for sphere in spheres:\n",
    "        spheresObj.append(Sphere(sphere[0], sphere[1], sphere[2]))\n",
    "    for x in range(-Cw//2, Cw//2):\n",
    "        for y in range(-Ch//2, Ch//2):\n",
    "            D = CanvasToViewport(x, y)\n",
    "            color = TraceRay(O, D, 1, 10**9, spheresObj)\n",
    "            putPixel(x, y, color, matrix)\n",
    "    return matrix"
   ]
  },
  {
   "cell_type": "code",
   "execution_count": 52,
   "metadata": {},
   "outputs": [
    {
     "data": {
      "text/plain": [
       "<matplotlib.image.AxesImage at 0x154319010>"
      ]
     },
     "execution_count": 52,
     "metadata": {},
     "output_type": "execute_result"
    },
    {
     "data": {
      "image/png": "[encoded data removed]",
      "text/plain": [
       "<Figure size 640x480 with 1 Axes>"
      ]
     },
     "metadata": {},
     "output_type": "display_data"
    }
   ],
   "source": [
    "img = np.array(findPixels())\n",
    "plt.axis(\"off\")\n",
    "plt.imshow(img)"
   ]
  }
 ],
 "metadata": {
  "kernelspec": {
   "display_name": "Python 3",
   "language": "python",
   "name": "python3"
  },
  "language_info": {
   "codemirror_mode": {
    "name": "ipython",
    "version": 3
   },
   "file_extension": ".py",
   "mimetype": "text/x-python",
   "name": "python",
   "nbconvert_exporter": "python",
   "pygments_lexer": "ipython3",
   "version": "3.12.0"
  }
 },
 "nbformat": 4,
 "nbformat_minor": 2
}
